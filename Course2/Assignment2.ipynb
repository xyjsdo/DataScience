{
 "cells": [
  {
   "cell_type": "markdown",
   "metadata": {},
   "source": [
    "# Assignment 2\n",
    "\n",
    "Before working on this assignment please read these instructions fully. In the submission area, you will notice that you can click the link to **Preview the Grading** for each step of the assignment. This is the criteria that will be used for peer grading. Please familiarize yourself with the criteria before beginning the assignment.\n",
    "\n",
    "An NOAA dataset has been stored in the file `data/C2A2_data/BinnedCsvs_d18/93c648398ff85fad51308f4ff8d11c2e8d8e66392462ffe79f3fb628.csv`. The data for this assignment comes from a subset of The National Centers for Environmental Information (NCEI) [Daily Global Historical Climatology Network](https://www1.ncdc.noaa.gov/pub/data/ghcn/daily/readme.txt) (GHCN-Daily). The GHCN-Daily is comprised of daily climate records from thousands of land surface stations across the globe.\n",
    "\n",
    "Each row in the assignment datafile corresponds to a single observation.\n",
    "\n",
    "The following variables are provided to you:\n",
    "\n",
    "* **id** : station identification code\n",
    "* **date** : date in YYYY-MM-DD format (e.g. 2012-01-24 = January 24, 2012)\n",
    "* **element** : indicator of element type\n",
    "    * TMAX : Maximum temperature (tenths of degrees C)\n",
    "    * TMIN : Minimum temperature (tenths of degrees C)\n",
    "* **value** : data value for element (tenths of degrees C)\n",
    "\n",
    "For this assignment, you must:\n",
    "\n",
    "1. Read the documentation and familiarize yourself with the dataset, then write some python code which returns a line graph of the record high and record low temperatures by day of the year over the period 2005-2014. The area between the record high and record low temperatures for each day should be shaded.\n",
    "2. Overlay a scatter of the 2015 data for any points (highs and lows) for which the ten year record (2005-2014) record high or record low was broken in 2015.\n",
    "3. Watch out for leap days (i.e. February 29th), it is reasonable to remove these points from the dataset for the purpose of this visualization.\n",
    "4. Make the visual nice! Leverage principles from the first module in this course when developing your solution. Consider issues such as legends, labels, and chart junk.\n",
    "\n",
    "The data you have been given is near **Shanghai, Shanghai, China**, and the stations the data comes from are shown on the map below."
   ]
  },
  {
   "cell_type": "code",
   "execution_count": null,
   "metadata": {},
   "outputs": [],
   "source": [
    "import matplotlib.pyplot as plt\n",
    "import mplleaflet\n",
    "import pandas as pd\n",
    "\n",
    "def leaflet_plot_stations(binsize, hashid):\n",
    "\n",
    "    df = pd.read_csv('BinSize_d{}.csv'.format(binsize))\n",
    "    \n",
    "    station_locations_by_hash = df[df['hash'] == hashid]\n",
    "\n",
    "    lons = station_locations_by_hash['LONGITUDE'].tolist()\n",
    "    lats = station_locations_by_hash['LATITUDE'].tolist()\n",
    "\n",
    "    plt.figure(figsize=(8,8))\n",
    "\n",
    "    plt.scatter(lons, lats, c='r', alpha=0.7, s=200)\n",
    "\n",
    "    return mplleaflet.display()\n",
    "\n",
    "\n",
    "leaflet_plot_stations(18,'93c648398ff85fad51308f4ff8d11c2e8d8e66392462ffe79f3fb628')"
   ]
  },
  {
   "cell_type": "code",
   "execution_count": null,
   "metadata": {
    "scrolled": false
   },
   "outputs": [],
   "source": [
    "df1 = pd.read_csv('93c648398ff85fad51308f4ff8d11c2e8d8e66392462ffe79f3fb628.csv')\n",
    "df2 = pd.read_csv('BinSize_d18.csv')\n",
    "df1.head()\n"
   ]
  },
  {
   "cell_type": "code",
   "execution_count": null,
   "metadata": {
    "scrolled": true
   },
   "outputs": [],
   "source": [
    "df2.head()\n"
   ]
  },
  {
   "cell_type": "code",
   "execution_count": null,
   "metadata": {
    "scrolled": true
   },
   "outputs": [],
   "source": [
    "df3 = df2[df2['hash'] == '93c648398ff85fad51308f4ff8d11c2e8d8e66392462ffe79f3fb628']\n",
    "df3.head()"
   ]
  },
  {
   "cell_type": "code",
   "execution_count": null,
   "metadata": {},
   "outputs": [],
   "source": [
    "df_total = pd.merge(left=df1,right=df2,how=\"inner\", left_on='ID', right_on=\"ID\")\n",
    "df_total"
   ]
  },
  {
   "cell_type": "code",
   "execution_count": null,
   "metadata": {
    "scrolled": true
   },
   "outputs": [],
   "source": [
    "df_total = df_total[['ID','Date','Element', 'Data_Value','NAME']]\n",
    "df_total"
   ]
  },
  {
   "cell_type": "code",
   "execution_count": null,
   "metadata": {},
   "outputs": [],
   "source": [
    "df_total = df_total[df_total.loc[:,'ID'].str.contains(r'^CHM') & \\\n",
    "                    (df_total.loc[:, 'NAME'] == 'SHANGHAI')]\n",
    "df_total = df_total.copy()\n",
    "df_total.loc[:,'Date'] = pd.to_datetime(df_total.loc[:,'Date'])\n",
    "\n",
    "df_total.loc[:,'Data_Value'] = df_total.loc[:,'Data_Value'].apply(lambda x: x/10)\n",
    "\n",
    "df_05_14 = df_total[df_total.loc[:,'Date'] < pd.Timestamp('1/1/2015')]\n",
    "df_05_14 = df_05_14.copy()\n",
    "\n",
    "df_2015 = df_total[df_total.loc[:,'Date'] > pd.Timestamp('1/1/2015')]\n",
    "df_2015 = df_2015.copy()\n",
    "\n",
    "\n",
    "\n"
   ]
  },
  {
   "cell_type": "code",
   "execution_count": null,
   "metadata": {},
   "outputs": [],
   "source": [
    "from datetime import datetime as dt\n",
    "df_05_14.sort_values(by = 'Date' ,inplace=True)\n",
    "\n",
    "df_2015.sort_values(by = 'Date' ,inplace=True)\n",
    "\n",
    "\n",
    "df_05_14['NewDate'] = df_total.Date.dt.strftime(\"%m-%d\")\n",
    "df_2015['NewDate'] = df_total.Date.dt.strftime(\"%m-%d\")\n",
    "\n",
    "df_05_14.drop(columns='Date')\n",
    "df_2015.drop(columns='Date')\n",
    "\n",
    "df_05_14 = df_05_14[df_05_14['NewDate'] != '02-29']\n",
    "\n",
    "max_record = df_05_14.groupby('NewDate')['Data_Value'].max().reset_index()\n",
    "max_record.columns = ['NewDate', 'Data_Value']\n",
    "\n",
    "\n",
    "min_record = df_05_14.groupby('NewDate')['Data_Value'].min().reset_index()\n",
    "min_record.columns = ['NewDate', 'Data_Value']\n",
    "\n",
    "\n",
    "max_record_2015 = df_2015.groupby('NewDate')['Data_Value'].max().reset_index()\n",
    "max_record_2015.columns = ['NewDate', 'Data_Value']\n",
    "\n",
    "min_record_2015 = df_2015.groupby('NewDate')['Data_Value'].min().reset_index()\n",
    "min_record_2015.columns = ['NewDate', 'Data_Value']\n",
    "\n",
    "\n",
    "max_record_2015_2 = pd.merge(left=max_record_2015, right=max_record, how = 'outer', left_on='NewDate', right_on='NewDate')\n",
    "\n",
    "min_record_2015_2 = pd.merge(left=min_record_2015, right=min_record, how = 'outer', left_on='NewDate', right_on='NewDate')\n"
   ]
  },
  {
   "cell_type": "code",
   "execution_count": null,
   "metadata": {},
   "outputs": [],
   "source": [
    "import numpy as np\n",
    "max_record_2015_2['Data_Value'] = np.where(max_record_2015_2['Data_Value_x'] > max_record_2015_2['Data_Value_y'],\\\n",
    "                                           max_record_2015_2['Data_Value_x'], np.nan)\n",
    "\n",
    "min_record_2015_2['Data_Value'] = np.where(min_record_2015_2['Data_Value_x'] < min_record_2015_2['Data_Value_y'],\\\n",
    "                                           min_record_2015_2['Data_Value_x'], np.nan)\n"
   ]
  },
  {
   "cell_type": "code",
   "execution_count": null,
   "metadata": {
    "scrolled": false
   },
   "outputs": [],
   "source": [
    "import matplotlib.pyplot as plt\n",
    "import matplotlib\n",
    "dates = pd.date_range(\"2015-01-01\", \"2015-12-31\" )\n",
    "df = pd.DataFrame({\"Dates\" : dates})\n",
    "\n",
    "max_record_2015_2.sort_values(by='NewDate',inplace=True)\n",
    "min_record_2015_2.sort_values(by='NewDate',inplace=True)\n",
    "\n",
    "max_record_2015_2['Dates'] = dates\n",
    "min_record_2015_2['Dates'] = dates\n",
    "max_record['Dates'] = dates\n",
    "min_record['Dates'] = dates\n",
    "\n",
    "plt.figure(figsize=(20,12))\n",
    "\n",
    "plt.plot(max_record.loc[:,'Dates'],max_record.loc[:,'Data_Value'],'-')\n",
    "plt.plot(max_record['Dates'],min_record['Data_Value'],'-')\n",
    "\n",
    "plt.plot_date(x = max_record_2015_2['Dates'], y = max_record_2015_2['Data_Value'], c = 'red')\n",
    "\n",
    "plt.plot_date(min_record_2015_2.loc[:,'Dates'],min_record_2015_2.loc[:,'Data_Value'],c = 'blue')\n",
    "\n",
    "\n",
    "plt.ylabel('Temperature(Celsius $^oC$)', )\n",
    "\n",
    "plt.legend(['2005-2014 Temp Highest', '2005-2014 Temp Lowest', 'Max Temp 2015', 'Min Temp 2015'])\n",
    "\n",
    "\n",
    "\n",
    "plt.gca().fill_between(max_record['Dates'].values,max_record['Data_Value'] ,min_record['Data_Value'], facecolor = 'blue', alpha = .25)\n",
    "\n",
    "\n",
    "import matplotlib.dates as dates\n",
    "import matplotlib.ticker as ticker\n",
    "\n",
    "\n",
    "\n",
    "ax = plt.gca()\n",
    "ax.xaxis.set_major_locator(dates.MonthLocator())\n",
    "ax.xaxis.set_minor_locator(dates.DayLocator())\n",
    "\n",
    "monthFmt = dates.DateFormatter('%b')\n",
    "ax.xaxis.set_major_formatter(monthFmt)\n",
    "\n",
    "font = {'size'   : 18}\n",
    "\n",
    "matplotlib.rc('font', **font)\n",
    "\n",
    "plt.rcParams.update({'font.size': 22})\n",
    "\n",
    "plt.title('Temperature of Shanghai')\n",
    "\n",
    "plt.savefig('assignment2.png')\n",
    "\n"
   ]
  },
  {
   "cell_type": "code",
   "execution_count": null,
   "metadata": {
    "scrolled": true
   },
   "outputs": [],
   "source": []
  }
 ],
 "metadata": {
  "kernelspec": {
   "display_name": "Python 3",
   "language": "python",
   "name": "python3"
  },
  "language_info": {
   "codemirror_mode": {
    "name": "ipython",
    "version": 3
   },
   "file_extension": ".py",
   "mimetype": "text/x-python",
   "name": "python",
   "nbconvert_exporter": "python",
   "pygments_lexer": "ipython3",
   "version": "3.7.0"
  }
 },
 "nbformat": 4,
 "nbformat_minor": 1
}
